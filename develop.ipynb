{
 "cells": [
  {
   "cell_type": "code",
   "execution_count": 1,
   "id": "fbd8bffb-627f-4e12-9cd7-07b6e162bda2",
   "metadata": {},
   "outputs": [],
   "source": [
    "import pandas as pd"
   ]
  },
  {
   "attachments": {},
   "cell_type": "markdown",
   "id": "5db3a339",
   "metadata": {},
   "source": [
    "# Country Name"
   ]
  },
  {
   "cell_type": "code",
<<<<<<< HEAD
   "execution_count": 10,
=======
   "execution_count": 4,
>>>>>>> 20f2ffcef9eead1feb1c75559d7e740c7f4ec86d
   "id": "8009eb82-3431-4e5f-8259-f9e0c239ddf4",
   "metadata": {},
   "outputs": [
    {
     "data": {
      "text/plain": [
<<<<<<< HEAD
       "(618, 2)"
      ]
     },
     "execution_count": 10,
=======
       "(1182, 2)"
      ]
     },
     "execution_count": 4,
>>>>>>> 20f2ffcef9eead1feb1c75559d7e740c7f4ec86d
     "metadata": {},
     "output_type": "execute_result"
    },
    {
     "data": {
      "text/html": [
       "<div>\n",
       "<style scoped>\n",
       "    .dataframe tbody tr th:only-of-type {\n",
       "        vertical-align: middle;\n",
       "    }\n",
       "\n",
       "    .dataframe tbody tr th {\n",
       "        vertical-align: top;\n",
       "    }\n",
       "\n",
       "    .dataframe thead th {\n",
       "        text-align: right;\n",
       "    }\n",
       "</style>\n",
       "<table border=\"1\" class=\"dataframe\">\n",
       "  <thead>\n",
       "    <tr style=\"text-align: right;\">\n",
       "      <th></th>\n",
       "      <th>Ctry_Name</th>\n",
       "      <th>Ctry_ISO3</th>\n",
       "    </tr>\n",
       "  </thead>\n",
       "  <tbody>\n",
       "    <tr>\n",
<<<<<<< HEAD
       "      <th>136</th>\n",
       "      <td>Curaçao</td>\n",
       "      <td>CUW</td>\n",
       "    </tr>\n",
       "    <tr>\n",
       "      <th>539</th>\n",
       "      <td>Turkey</td>\n",
       "      <td>TUR</td>\n",
       "    </tr>\n",
       "    <tr>\n",
       "      <th>499</th>\n",
       "      <td>Suriname</td>\n",
       "      <td>SUR</td>\n",
=======
       "      <th>903</th>\n",
       "      <td>Singapore</td>\n",
       "      <td>SGP</td>\n",
       "    </tr>\n",
       "    <tr>\n",
       "      <th>241</th>\n",
       "      <td>CPV</td>\n",
       "      <td>CPV</td>\n",
       "    </tr>\n",
       "    <tr>\n",
       "      <th>44</th>\n",
       "      <td>ASM</td>\n",
       "      <td>ASM</td>\n",
>>>>>>> 20f2ffcef9eead1feb1c75559d7e740c7f4ec86d
       "    </tr>\n",
       "  </tbody>\n",
       "</table>\n",
       "</div>"
      ],
      "text/plain": [
<<<<<<< HEAD
       "    Ctry_Name Ctry_ISO3\n",
       "136   Curaçao       CUW\n",
       "539    Turkey       TUR\n",
       "499  Suriname       SUR"
      ]
     },
     "execution_count": 10,
=======
       "     Ctry_Name Ctry_ISO3\n",
       "903  Singapore       SGP\n",
       "241        CPV       CPV\n",
       "44         ASM       ASM"
      ]
     },
     "execution_count": 4,
>>>>>>> 20f2ffcef9eead1feb1c75559d7e740c7f4ec86d
     "metadata": {},
     "output_type": "execute_result"
    }
   ],
   "source": [
    "df = pd.read_csv('CountryName.csv', encoding='utf-8')\n",
    "df.shape\n",
    "df.sample(3)"
   ]
  },
  {
   "cell_type": "code",
<<<<<<< HEAD
   "execution_count": 11,
=======
   "execution_count": null,
>>>>>>> 20f2ffcef9eead1feb1c75559d7e740c7f4ec86d
   "id": "8791d4e1-de62-4419-994f-ae8f0bc24ba7",
   "metadata": {},
   "outputs": [],
   "source": [
    "# tmp = pd.DataFrame(\n",
    "#     {\n",
    "#         'Ctry_Name': ['Korea (South)', 'Virgin Islands (Brit)', 'Hongkong', 'Virgin Islands(Brit)', 'England', 'United States Virgin Islands', 'Moldovia', 'Falkland Islands (Malvinas)', 'Turks & Caicos Islands', 'Taiwan ROC'],\n",
    "#         'Ctry_ISO3': ['KOR', 'VGB', 'HKG', 'VGB', 'GBR', 'VIR', 'MDA', 'FLK', 'TCA', 'TWN']\n",
    "#     }\n",
    "# )\n",
    "\n",
    "# df = pd.concat([df, tmp], ignore_index=True)\n",
    "\n",
    "\n",
    "# tmp = pd.DataFrame(\n",
    "#     {\n",
    "#         'Ctry_Name': ['DR Congo', 'Somaliland', 'Transnistria', 'Northern Cyprus', 'Akrotiri and Dhekelia'],\n",
    "#         'Ctry_ISO3': ['COD', 'SOM', 'MDA', 'CYP', 'GBR-AD']\n",
    "#     }\n",
    "# )\n",
    "\n",
    "# df = df.append({'Ctry_Name': \"HongKong\", 'Ctry_ISO3': 'HKG'}, ignore_index=True)\n",
    "# df = df.append({'Ctry_Name': \"montenegro\", 'Ctry_ISO3': 'MNE'}, ignore_index=True)\n",
    "# df = df.append({'Ctry_Name': \"Canary Is\", 'Ctry_ISO3': 'ESP'}, ignore_index=True)\n",
    "\n",
    "# tmp = pd.DataFrame(\n",
    "#     {\n",
    "#         'Ctry_Name': ['HongKong', 'montenegro', 'Canary Is', 'Melilla', 'Ceuta', 'Tubai Is'],\n",
    "#         'Ctry_ISO3': ['HKG', 'MNE', 'ESP', 'ESP', 'ESP', 'PYF']\n",
    "#     }\n",
    "# )\n",
    "\n",
    "# tmp = pd.DataFrame(\n",
    "#     {\n",
    "#         'Ctry_Name': ['Türkiye'],\n",
    "#         'Ctry_ISO3': ['TUR'],\n",
    "#     }\n",
    "# )\n",
    "\n",
    "# iso2 = pd.read_csv('CountryISO2.csv', encoding='utf-8')\n",
    "# iso2.columns = ['Ctry_Name', 'Ctry_ISO3']\n",
    "\n",
    "# tmp2 = pd.DataFrame(\n",
    "#     {\n",
    "#         'Ctry_Name': df['Ctry_ISO3'].unique(),\n",
    "#         'Ctry_ISO3': df['Ctry_ISO3'].unique(),\n",
    "#     }\n",
    "# )\n",
    "\n",
    "# df = pd.concat([df, tmp, iso2, tmp2], ignore_index=True)"
   ]
  },
  {
   "cell_type": "code",
<<<<<<< HEAD
   "execution_count": 12,
   "id": "ee42a99d",
   "metadata": {},
   "outputs": [],
   "source": [
    "tmp = pd.DataFrame(\n",
    "    {\n",
    "        'Ctry_Name': [\n",
    "            'Türkiye',\n",
    "            'Caribbean Netherlands',\n",
    "            'Svalbard & Jan Mayen', \n",
    "            'Côte d’Ivoire', \n",
    "            'St. Martin',\n",
    "            'St. Barthélemy', \n",
    "            'São Tomé & Príncipe', \n",
    "            'Congo - Brazzaville',\n",
    "            'St. Vincent & Grenadines', \n",
    "            'St. Kitts & Nevis',\n",
    "            'Congo - Kinshasa', \n",
    "            'South Georgia & South Sandwich Islands',\n",
    "            'U.S. Outlying Islands', \n",
    "            'Falkland Islands (Islas Malvinas)',\n",
    "            'St. Pierre & Miquelon', \n",
    "            'Pitcairn Islands', \n",
    "            'Wallis & Futuna',\n",
    "            'Heard & McDonald Islands'\n",
    "        ],\n",
    "        'Ctry_ISO3': [\n",
    "            'TUR',\n",
    "            'BES',\n",
    "            'SJM', \n",
    "            'CIV', \n",
    "            'MAF',\n",
    "            'BLM',\n",
    "            'STP',\n",
    "            'COG',\n",
    "            'VCT',\n",
    "            'KNA',\n",
    "            'COD',\n",
    "            'SGS',\n",
    "            'UMI',\n",
    "            'FLK',\n",
    "            'SPM',\n",
    "            'PCN',\n",
    "            'WLF',\n",
    "            'HMD'\n",
    "        ],\n",
    "    }\n",
    ")\n",
    "\n",
=======
   "execution_count": 5,
   "id": "74b734a8",
   "metadata": {},
   "outputs": [],
   "source": [
    "tmp = pd.DataFrame({\n",
    "    'Ctry_Name': ['Samoa (Independent)', \"Cote d''Ivoire\", \"Antigua And Barbuda\", \"Wallis and Futuna Islands\", \"Moldova, Republic of\", \"Vatican City State (Holy See)\", \"Caribbean Netherlands\", \"Micronesia, Federated States of\"],\n",
    "    'Ctry_ISO3': ['WSM', 'CIV', 'ATG', 'WLF', 'MDA', 'VAT', 'BES', 'FSM']\n",
    "})"
   ]
  },
  {
   "cell_type": "code",
   "execution_count": 6,
   "id": "59d7f4ae",
   "metadata": {},
   "outputs": [],
   "source": [
>>>>>>> 20f2ffcef9eead1feb1c75559d7e740c7f4ec86d
    "df = pd.concat([df, tmp], ignore_index=True)"
   ]
  },
  {
   "cell_type": "code",
<<<<<<< HEAD
   "execution_count": 13,
=======
   "execution_count": 7,
>>>>>>> 20f2ffcef9eead1feb1c75559d7e740c7f4ec86d
   "id": "ee7ef862-ca64-4f5a-bc63-52e691de63fa",
   "metadata": {},
   "outputs": [],
   "source": [
    "# df.loc[df['Ctry_Name'].str.contains('\\?')]"
   ]
  },
  {
   "cell_type": "code",
<<<<<<< HEAD
   "execution_count": 14,
=======
   "execution_count": 8,
>>>>>>> 20f2ffcef9eead1feb1c75559d7e740c7f4ec86d
   "id": "06dcbb38",
   "metadata": {},
   "outputs": [
    {
     "data": {
      "text/plain": [
<<<<<<< HEAD
       "(620, 2)"
      ]
     },
     "execution_count": 14,
=======
       "(1190, 2)"
      ]
     },
     "execution_count": 8,
>>>>>>> 20f2ffcef9eead1feb1c75559d7e740c7f4ec86d
     "metadata": {},
     "output_type": "execute_result"
    }
   ],
   "source": [
    "df.drop_duplicates(inplace=True)\n",
    "df.shape"
   ]
  },
  {
   "cell_type": "code",
<<<<<<< HEAD
   "execution_count": 15,
=======
   "execution_count": 9,
>>>>>>> 20f2ffcef9eead1feb1c75559d7e740c7f4ec86d
   "id": "23f82d8c-0db2-4d61-be47-b832bc1bd84a",
   "metadata": {},
   "outputs": [
    {
     "data": {
      "text/plain": [
       "0"
      ]
     },
<<<<<<< HEAD
     "execution_count": 15,
=======
     "execution_count": 9,
>>>>>>> 20f2ffcef9eead1feb1c75559d7e740c7f4ec86d
     "metadata": {},
     "output_type": "execute_result"
    }
   ],
   "source": [
    "df.duplicated(subset=['Ctry_Name']).sum()"
   ]
  },
  {
   "cell_type": "code",
<<<<<<< HEAD
   "execution_count": 16,
=======
   "execution_count": 10,
>>>>>>> 20f2ffcef9eead1feb1c75559d7e740c7f4ec86d
   "id": "b5d937f6",
   "metadata": {},
   "outputs": [
    {
     "data": {
      "text/html": [
       "<div>\n",
       "<style scoped>\n",
       "    .dataframe tbody tr th:only-of-type {\n",
       "        vertical-align: middle;\n",
       "    }\n",
       "\n",
       "    .dataframe tbody tr th {\n",
       "        vertical-align: top;\n",
       "    }\n",
       "\n",
       "    .dataframe thead th {\n",
       "        text-align: right;\n",
       "    }\n",
       "</style>\n",
       "<table border=\"1\" class=\"dataframe\">\n",
       "  <thead>\n",
       "    <tr style=\"text-align: right;\">\n",
       "      <th></th>\n",
       "      <th>Ctry_Name</th>\n",
       "      <th>Ctry_ISO3</th>\n",
       "    </tr>\n",
       "  </thead>\n",
       "  <tbody>\n",
       "  </tbody>\n",
       "</table>\n",
       "</div>"
      ],
      "text/plain": [
       "Empty DataFrame\n",
       "Columns: [Ctry_Name, Ctry_ISO3]\n",
       "Index: []"
      ]
     },
<<<<<<< HEAD
     "execution_count": 16,
=======
     "execution_count": 10,
>>>>>>> 20f2ffcef9eead1feb1c75559d7e740c7f4ec86d
     "metadata": {},
     "output_type": "execute_result"
    }
   ],
   "source": [
    "df[df.duplicated(subset=['Ctry_Name'])]"
   ]
  },
  {
   "cell_type": "code",
<<<<<<< HEAD
   "execution_count": 17,
=======
   "execution_count": 11,
>>>>>>> 20f2ffcef9eead1feb1c75559d7e740c7f4ec86d
   "id": "1522ef7e-4766-4d61-b099-f4fe857dd5ff",
   "metadata": {},
   "outputs": [],
   "source": [
    "df.sort_values(['Ctry_ISO3', 'Ctry_Name'], ascending=True, inplace=True)"
   ]
  },
  {
   "cell_type": "code",
<<<<<<< HEAD
   "execution_count": 18,
=======
   "execution_count": 12,
>>>>>>> 20f2ffcef9eead1feb1c75559d7e740c7f4ec86d
   "id": "3f09c4ad-90c5-4909-8168-96d503e45db1",
   "metadata": {},
   "outputs": [],
   "source": [
    "df.to_csv('CountryName.csv', encoding='utf-8', index=False)"
   ]
  },
  {
   "attachments": {},
   "cell_type": "markdown",
   "id": "7c8a960f",
   "metadata": {},
   "source": [
    "# Country ISO2"
   ]
  },
  {
   "cell_type": "code",
   "execution_count": 1,
   "id": "bb8c1bcb",
   "metadata": {},
   "outputs": [
    {
     "data": {
      "text/plain": [
       "(259, 2)"
      ]
     },
     "execution_count": 1,
     "metadata": {},
     "output_type": "execute_result"
    },
    {
     "data": {
      "text/html": [
       "<div>\n",
       "<style scoped>\n",
       "    .dataframe tbody tr th:only-of-type {\n",
       "        vertical-align: middle;\n",
       "    }\n",
       "\n",
       "    .dataframe tbody tr th {\n",
       "        vertical-align: top;\n",
       "    }\n",
       "\n",
       "    .dataframe thead th {\n",
       "        text-align: right;\n",
       "    }\n",
       "</style>\n",
       "<table border=\"1\" class=\"dataframe\">\n",
       "  <thead>\n",
       "    <tr style=\"text-align: right;\">\n",
       "      <th></th>\n",
       "      <th>Ctry_ISO2</th>\n",
       "      <th>Ctry_ISO3</th>\n",
       "    </tr>\n",
       "  </thead>\n",
       "  <tbody>\n",
       "    <tr>\n",
       "      <th>107</th>\n",
       "      <td>IM</td>\n",
       "      <td>IMN</td>\n",
       "    </tr>\n",
       "    <tr>\n",
       "      <th>29</th>\n",
       "      <td>BO</td>\n",
       "      <td>BOL</td>\n",
       "    </tr>\n",
       "    <tr>\n",
       "      <th>148</th>\n",
       "      <td>MH</td>\n",
       "      <td>MHL</td>\n",
       "    </tr>\n",
       "  </tbody>\n",
       "</table>\n",
       "</div>"
      ],
      "text/plain": [
       "    Ctry_ISO2 Ctry_ISO3\n",
       "107        IM       IMN\n",
       "29         BO       BOL\n",
       "148        MH       MHL"
      ]
     },
     "execution_count": 1,
     "metadata": {},
     "output_type": "execute_result"
    }
   ],
   "source": [
    "df = pd.read_csv('CountryISO2.csv', encoding='utf-8')\n",
    "df.shape\n",
    "df.sample(3)"
   ]
  },
  {
   "cell_type": "markdown",
   "id": "335a29ea",
   "metadata": {},
   "source": [
    "# US State Name"
   ]
  },
  {
   "cell_type": "code",
   "execution_count": 2,
   "id": "fa082f92",
   "metadata": {},
   "outputs": [
    {
     "name": "stdout",
     "output_type": "stream",
     "text": [
      "{'Alabama': 'AL', 'Alaska': 'AK', 'Arizona': 'AZ', 'Arkansas': 'AR', 'California': 'CA', 'Colorado': 'CO', 'Connecticut': 'CT', 'Delaware': 'DE', 'Florida': 'FL', 'Georgia': 'GA', 'Hawaii': 'HI', 'Idaho': 'ID', 'Illinois': 'IL', 'Indiana': 'IN', 'Iowa': 'IA', 'Kansas': 'KS', 'Kentucky': 'KY', 'Louisiana': 'LA', 'Maine': 'ME', 'Maryland': 'MD', 'Massachusetts': 'MA', 'Michigan': 'MI', 'Minnesota': 'MN', 'Mississippi': 'MS', 'Missouri': 'MO', 'Montana': 'MT', 'Nebraska': 'NE', 'Nevada': 'NV', 'New Hampshire': 'NH', 'New Jersey': 'NJ', 'New Mexico': 'NM', 'New York': 'NY', 'North Carolina': 'NC', 'North Dakota': 'ND', 'Ohio': 'OH', 'Oklahoma': 'OK', 'Oregon': 'OR', 'Pennsylvania': 'PA', 'Rhode Island': 'RI', 'South Carolina': 'SC', 'South Dakota': 'SD', 'Tennessee': 'TN', 'Texas': 'TX', 'Utah': 'UT', 'Vermont': 'VT', 'Virginia': 'VA', 'Washington': 'WA', 'West Virginia': 'WV', 'Wisconsin': 'WI', 'Wyoming': 'WY'}\n"
     ]
    }
   ],
   "source": [
    "import us\n",
    "\n",
    "state_abbrev = {state.name: state.abbr for state in us.states.STATES}\n",
    "state_abbrev_filtered = {state: state_abbrev[state] for state in states if state in state_abbrev}\n",
    "print(state_abbrev_filtered)"
   ]
  },
  {
   "cell_type": "code",
   "execution_count": 4,
   "id": "9c601eaa",
   "metadata": {},
   "outputs": [
    {
     "data": {
      "text/plain": [
       "(50, 2)"
      ]
     },
     "execution_count": 4,
     "metadata": {},
     "output_type": "execute_result"
    },
    {
     "data": {
      "text/html": [
       "<div>\n",
       "<style scoped>\n",
       "    .dataframe tbody tr th:only-of-type {\n",
       "        vertical-align: middle;\n",
       "    }\n",
       "\n",
       "    .dataframe tbody tr th {\n",
       "        vertical-align: top;\n",
       "    }\n",
       "\n",
       "    .dataframe thead th {\n",
       "        text-align: right;\n",
       "    }\n",
       "</style>\n",
       "<table border=\"1\" class=\"dataframe\">\n",
       "  <thead>\n",
       "    <tr style=\"text-align: right;\">\n",
       "      <th></th>\n",
       "      <th>StateName</th>\n",
       "      <th>StateCode</th>\n",
       "    </tr>\n",
       "  </thead>\n",
       "  <tbody>\n",
       "    <tr>\n",
       "      <th>0</th>\n",
       "      <td>Alabama</td>\n",
       "      <td>AL</td>\n",
       "    </tr>\n",
       "    <tr>\n",
       "      <th>1</th>\n",
       "      <td>Alaska</td>\n",
       "      <td>AK</td>\n",
       "    </tr>\n",
       "    <tr>\n",
       "      <th>2</th>\n",
       "      <td>Arizona</td>\n",
       "      <td>AZ</td>\n",
       "    </tr>\n",
       "  </tbody>\n",
       "</table>\n",
       "</div>"
      ],
      "text/plain": [
       "  StateName StateCode\n",
       "0   Alabama        AL\n",
       "1    Alaska        AK\n",
       "2   Arizona        AZ"
      ]
     },
     "execution_count": 4,
     "metadata": {},
     "output_type": "execute_result"
    }
   ],
   "source": [
    "df = pd.DataFrame(list(state_abbrev_filtered.items()), columns=['StateName', 'StateCode'])\n",
    "df.shape\n",
    "df.head(3)"
   ]
  },
  {
   "cell_type": "code",
   "execution_count": 6,
   "id": "0edd7ee3",
   "metadata": {},
   "outputs": [],
   "source": [
    "new = pd.DataFrame({\n",
    "    'StateName': ['District of Columbia', 'Guam', 'Puerto Rico', 'Virgin Islands', 'American Samoa'],\n",
    "    'StateCode': ['DC', 'GU', 'PR', 'VI', 'AS'],\n",
    "})"
   ]
  },
  {
   "cell_type": "code",
   "execution_count": 7,
   "id": "476f642c",
   "metadata": {},
   "outputs": [
    {
     "data": {
      "text/plain": [
       "(55, 2)"
      ]
     },
     "execution_count": 7,
     "metadata": {},
     "output_type": "execute_result"
    },
    {
     "data": {
      "text/plain": [
       "0"
      ]
     },
     "execution_count": 7,
     "metadata": {},
     "output_type": "execute_result"
    }
   ],
   "source": [
    "df = pd.concat([df, new], ignore_index=True)\n",
    "df.shape\n",
    "df.drop_duplicates(inplace=True)\n",
    "df.duplicated(subset=['StateName']).sum()"
   ]
  },
  {
   "cell_type": "code",
   "execution_count": 8,
   "id": "b99775f0",
   "metadata": {},
   "outputs": [],
   "source": [
    "df.to_csv('US_StateName.csv', encoding='utf-8', index=False)"
   ]
  },
  {
   "cell_type": "code",
   "execution_count": null,
   "id": "3178bd08",
   "metadata": {},
   "outputs": [],
   "source": []
  }
 ],
 "metadata": {
  "kernelspec": {
   "display_name": "base",
   "language": "python",
   "name": "python3"
  },
  "language_info": {
   "codemirror_mode": {
    "name": "ipython",
    "version": 3
   },
   "file_extension": ".py",
   "mimetype": "text/x-python",
   "name": "python",
   "nbconvert_exporter": "python",
   "pygments_lexer": "ipython3",
<<<<<<< HEAD
   "version": "3.12.9"
=======
   "version": "3.12.4"
>>>>>>> 20f2ffcef9eead1feb1c75559d7e740c7f4ec86d
  }
 },
 "nbformat": 4,
 "nbformat_minor": 5
}
