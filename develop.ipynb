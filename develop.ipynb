{
 "cells": [
  {
   "cell_type": "code",
   "execution_count": 1,
   "id": "fbd8bffb-627f-4e12-9cd7-07b6e162bda2",
   "metadata": {},
   "outputs": [],
   "source": [
    "import pandas as pd"
   ]
  },
  {
   "attachments": {},
   "cell_type": "markdown",
   "id": "5db3a339",
   "metadata": {},
   "source": [
    "# Country Name"
   ]
  },
  {
   "cell_type": "code",
   "execution_count": 10,
   "id": "8009eb82-3431-4e5f-8259-f9e0c239ddf4",
   "metadata": {},
   "outputs": [
    {
     "data": {
      "text/plain": [
       "(618, 2)"
      ]
     },
     "execution_count": 10,
     "metadata": {},
     "output_type": "execute_result"
    },
    {
     "data": {
      "text/html": [
       "<div>\n",
       "<style scoped>\n",
       "    .dataframe tbody tr th:only-of-type {\n",
       "        vertical-align: middle;\n",
       "    }\n",
       "\n",
       "    .dataframe tbody tr th {\n",
       "        vertical-align: top;\n",
       "    }\n",
       "\n",
       "    .dataframe thead th {\n",
       "        text-align: right;\n",
       "    }\n",
       "</style>\n",
       "<table border=\"1\" class=\"dataframe\">\n",
       "  <thead>\n",
       "    <tr style=\"text-align: right;\">\n",
       "      <th></th>\n",
       "      <th>Ctry_Name</th>\n",
       "      <th>Ctry_ISO3</th>\n",
       "    </tr>\n",
       "  </thead>\n",
       "  <tbody>\n",
       "    <tr>\n",
       "      <th>136</th>\n",
       "      <td>Curaçao</td>\n",
       "      <td>CUW</td>\n",
       "    </tr>\n",
       "    <tr>\n",
       "      <th>539</th>\n",
       "      <td>Turkey</td>\n",
       "      <td>TUR</td>\n",
       "    </tr>\n",
       "    <tr>\n",
       "      <th>499</th>\n",
       "      <td>Suriname</td>\n",
       "      <td>SUR</td>\n",
       "    </tr>\n",
       "  </tbody>\n",
       "</table>\n",
       "</div>"
      ],
      "text/plain": [
       "    Ctry_Name Ctry_ISO3\n",
       "136   Curaçao       CUW\n",
       "539    Turkey       TUR\n",
       "499  Suriname       SUR"
      ]
     },
     "execution_count": 10,
     "metadata": {},
     "output_type": "execute_result"
    }
   ],
   "source": [
    "df = pd.read_csv('CountryName.csv', encoding='utf-8')\n",
    "df.shape\n",
    "df.sample(3)"
   ]
  },
  {
   "cell_type": "code",
   "execution_count": 11,
   "id": "8791d4e1-de62-4419-994f-ae8f0bc24ba7",
   "metadata": {},
   "outputs": [],
   "source": [
    "# tmp = pd.DataFrame(\n",
    "#     {\n",
    "#         'Ctry_Name': ['Korea (South)', 'Virgin Islands (Brit)', 'Hongkong', 'Virgin Islands(Brit)', 'England', 'United States Virgin Islands', 'Moldovia', 'Falkland Islands (Malvinas)', 'Turks & Caicos Islands', 'Taiwan ROC'],\n",
    "#         'Ctry_ISO3': ['KOR', 'VGB', 'HKG', 'VGB', 'GBR', 'VIR', 'MDA', 'FLK', 'TCA', 'TWN']\n",
    "#     }\n",
    "# )\n",
    "\n",
    "# df = pd.concat([df, tmp], ignore_index=True)\n",
    "\n",
    "\n",
    "# tmp = pd.DataFrame(\n",
    "#     {\n",
    "#         'Ctry_Name': ['DR Congo', 'Somaliland', 'Transnistria', 'Northern Cyprus', 'Akrotiri and Dhekelia'],\n",
    "#         'Ctry_ISO3': ['COD', 'SOM', 'MDA', 'CYP', 'GBR-AD']\n",
    "#     }\n",
    "# )\n",
    "\n",
    "# df = pd.concat([df, tmp], ignore_index=True)"
   ]
  },
  {
   "cell_type": "code",
   "execution_count": 12,
   "id": "ee42a99d",
   "metadata": {},
   "outputs": [],
   "source": [
    "tmp = pd.DataFrame(\n",
    "    {\n",
    "        'Ctry_Name': [\n",
    "            'Türkiye',\n",
    "            'Caribbean Netherlands',\n",
    "            'Svalbard & Jan Mayen', \n",
    "            'Côte d’Ivoire', \n",
    "            'St. Martin',\n",
    "            'St. Barthélemy', \n",
    "            'São Tomé & Príncipe', \n",
    "            'Congo - Brazzaville',\n",
    "            'St. Vincent & Grenadines', \n",
    "            'St. Kitts & Nevis',\n",
    "            'Congo - Kinshasa', \n",
    "            'South Georgia & South Sandwich Islands',\n",
    "            'U.S. Outlying Islands', \n",
    "            'Falkland Islands (Islas Malvinas)',\n",
    "            'St. Pierre & Miquelon', \n",
    "            'Pitcairn Islands', \n",
    "            'Wallis & Futuna',\n",
    "            'Heard & McDonald Islands'\n",
    "        ],\n",
    "        'Ctry_ISO3': [\n",
    "            'TUR',\n",
    "            'BES',\n",
    "            'SJM', \n",
    "            'CIV', \n",
    "            'MAF',\n",
    "            'BLM',\n",
    "            'STP',\n",
    "            'COG',\n",
    "            'VCT',\n",
    "            'KNA',\n",
    "            'COD',\n",
    "            'SGS',\n",
    "            'UMI',\n",
    "            'FLK',\n",
    "            'SPM',\n",
    "            'PCN',\n",
    "            'WLF',\n",
    "            'HMD'\n",
    "        ],\n",
    "    }\n",
    ")\n",
    "\n",
    "df = pd.concat([df, tmp], ignore_index=True)"
   ]
  },
  {
   "cell_type": "code",
   "execution_count": 13,
   "id": "ee7ef862-ca64-4f5a-bc63-52e691de63fa",
   "metadata": {},
   "outputs": [],
   "source": [
    "# df.loc[df['Ctry_Name'].str.contains('\\?')]"
   ]
  },
  {
   "cell_type": "code",
   "execution_count": 14,
   "id": "06dcbb38",
   "metadata": {},
   "outputs": [
    {
     "data": {
      "text/plain": [
       "(620, 2)"
      ]
     },
     "execution_count": 14,
     "metadata": {},
     "output_type": "execute_result"
    }
   ],
   "source": [
    "df.drop_duplicates(inplace=True)\n",
    "df.shape"
   ]
  },
  {
   "cell_type": "code",
   "execution_count": 15,
   "id": "23f82d8c-0db2-4d61-be47-b832bc1bd84a",
   "metadata": {},
   "outputs": [
    {
     "data": {
      "text/plain": [
       "0"
      ]
     },
     "execution_count": 15,
     "metadata": {},
     "output_type": "execute_result"
    }
   ],
   "source": [
    "df.duplicated(subset=['Ctry_Name']).sum()"
   ]
  },
  {
   "cell_type": "code",
   "execution_count": 16,
   "id": "b5d937f6",
   "metadata": {},
   "outputs": [
    {
     "data": {
      "text/html": [
       "<div>\n",
       "<style scoped>\n",
       "    .dataframe tbody tr th:only-of-type {\n",
       "        vertical-align: middle;\n",
       "    }\n",
       "\n",
       "    .dataframe tbody tr th {\n",
       "        vertical-align: top;\n",
       "    }\n",
       "\n",
       "    .dataframe thead th {\n",
       "        text-align: right;\n",
       "    }\n",
       "</style>\n",
       "<table border=\"1\" class=\"dataframe\">\n",
       "  <thead>\n",
       "    <tr style=\"text-align: right;\">\n",
       "      <th></th>\n",
       "      <th>Ctry_Name</th>\n",
       "      <th>Ctry_ISO3</th>\n",
       "    </tr>\n",
       "  </thead>\n",
       "  <tbody>\n",
       "  </tbody>\n",
       "</table>\n",
       "</div>"
      ],
      "text/plain": [
       "Empty DataFrame\n",
       "Columns: [Ctry_Name, Ctry_ISO3]\n",
       "Index: []"
      ]
     },
     "execution_count": 16,
     "metadata": {},
     "output_type": "execute_result"
    }
   ],
   "source": [
    "df[df.duplicated(subset=['Ctry_Name'])]"
   ]
  },
  {
   "cell_type": "code",
   "execution_count": 17,
   "id": "1522ef7e-4766-4d61-b099-f4fe857dd5ff",
   "metadata": {},
   "outputs": [],
   "source": [
    "df.sort_values(['Ctry_ISO3', 'Ctry_Name'], ascending=True, inplace=True)"
   ]
  },
  {
   "cell_type": "code",
   "execution_count": 18,
   "id": "3f09c4ad-90c5-4909-8168-96d503e45db1",
   "metadata": {},
   "outputs": [],
   "source": [
    "df.to_csv('CountryName.csv', encoding='utf-8', index=False)"
   ]
  },
  {
   "attachments": {},
   "cell_type": "markdown",
   "id": "7c8a960f",
   "metadata": {},
   "source": [
    "# Country ISO2"
   ]
  },
  {
   "cell_type": "code",
   "execution_count": 1,
   "id": "bb8c1bcb",
   "metadata": {},
   "outputs": [
    {
     "data": {
      "text/plain": [
       "(259, 2)"
      ]
     },
     "execution_count": 1,
     "metadata": {},
     "output_type": "execute_result"
    },
    {
     "data": {
      "text/html": [
       "<div>\n",
       "<style scoped>\n",
       "    .dataframe tbody tr th:only-of-type {\n",
       "        vertical-align: middle;\n",
       "    }\n",
       "\n",
       "    .dataframe tbody tr th {\n",
       "        vertical-align: top;\n",
       "    }\n",
       "\n",
       "    .dataframe thead th {\n",
       "        text-align: right;\n",
       "    }\n",
       "</style>\n",
       "<table border=\"1\" class=\"dataframe\">\n",
       "  <thead>\n",
       "    <tr style=\"text-align: right;\">\n",
       "      <th></th>\n",
       "      <th>Ctry_ISO2</th>\n",
       "      <th>Ctry_ISO3</th>\n",
       "    </tr>\n",
       "  </thead>\n",
       "  <tbody>\n",
       "    <tr>\n",
       "      <th>107</th>\n",
       "      <td>IM</td>\n",
       "      <td>IMN</td>\n",
       "    </tr>\n",
       "    <tr>\n",
       "      <th>29</th>\n",
       "      <td>BO</td>\n",
       "      <td>BOL</td>\n",
       "    </tr>\n",
       "    <tr>\n",
       "      <th>148</th>\n",
       "      <td>MH</td>\n",
       "      <td>MHL</td>\n",
       "    </tr>\n",
       "  </tbody>\n",
       "</table>\n",
       "</div>"
      ],
      "text/plain": [
       "    Ctry_ISO2 Ctry_ISO3\n",
       "107        IM       IMN\n",
       "29         BO       BOL\n",
       "148        MH       MHL"
      ]
     },
     "execution_count": 1,
     "metadata": {},
     "output_type": "execute_result"
    }
   ],
   "source": [
    "df = pd.read_csv('CountryISO2.csv', encoding='utf-8')\n",
    "df.shape\n",
    "df.sample(3)"
   ]
  },
  {
   "cell_type": "code",
   "execution_count": null,
   "id": "216f52b5",
   "metadata": {},
   "outputs": [],
   "source": []
  }
 ],
 "metadata": {
  "kernelspec": {
   "display_name": "base",
   "language": "python",
   "name": "python3"
  },
  "language_info": {
   "codemirror_mode": {
    "name": "ipython",
    "version": 3
   },
   "file_extension": ".py",
   "mimetype": "text/x-python",
   "name": "python",
   "nbconvert_exporter": "python",
   "pygments_lexer": "ipython3",
   "version": "3.12.9"
  }
 },
 "nbformat": 4,
 "nbformat_minor": 5
}
